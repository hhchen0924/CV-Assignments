{
 "cells": [
  {
   "cell_type": "code",
   "execution_count": null,
   "metadata": {},
   "outputs": [],
   "source": [
    "import numpy as np\n",
    "import matplotlib.pyplot as plt\n",
    "from mpl_toolkits.mplot3d import Axes3D\n",
    "from matplotlib import cm\n",
    "from scipy import linalg\n",
    "%matplotlib inline\n",
    "\n",
    "def show_gradient_descent(A, b):\n",
    "#  enter your code here, 0000000000000000he following line (30%)\n",
    "   pass"
   ]
  },
  {
   "cell_type": "code",
   "execution_count": null,
   "metadata": {},
   "outputs": [],
   "source": [
    "def draw_gradient_descent(A, b):\n",
    "  xx, yy = np.meshgrid(np.arange(-2,2.1,0.1), np.arange(-2,2.1,0.1))\n",
    "  F1 = A[0][0]*xx + A[0][1]*yy - b[0];\n",
    "  F2 = A[1][0]*xx + A[1][1]*yy - b[1];\n",
    "  zz = F1*F1 + F2*F2;\n",
    "  plt3d = plt.figure().gca(projection='3d')\n",
    "  plt3d.plot_surface(xx, yy, zz, alpha=0.7, cmap=cm.coolwarm)\n",
    "    \n",
    "#  enter your code here (14%)\n",
    "\n",
    "  plt.show()"
   ]
  },
  {
   "cell_type": "code",
   "execution_count": null,
   "metadata": {},
   "outputs": [],
   "source": [
    "if __name__ == '__main__':\n",
    "  b = np.array([[1], [2]])\n",
    "  A = np.array([[1, -2], [1, -2]])\n",
    "  show_gradient_descent(A, b)\n",
    "  draw_gradient_descent(A, b)"
   ]
  },
  {
   "cell_type": "code",
   "execution_count": null,
   "metadata": {},
   "outputs": [],
   "source": [
    "# Try different learning rates of alpha. How to adjust the learning rate for faster speed of convergence? (4%)\n",
    "# 如何調整 alpha 使得所需迴圈次數愈少愈好(即較快達到收斂)？\n",
    "# Write down your answer here. "
   ]
  },
  {
   "cell_type": "code",
   "execution_count": null,
   "metadata": {},
   "outputs": [],
   "source": [
    "# Try different initial points of x. Do different initial points give rise to different to optimal solutions? (4%)\n",
    "# 不同初始點 x 會使演算法找到不同最佳解嗎?\n",
    "# Write down your answer here."
   ]
  },
  {
   "cell_type": "code",
   "execution_count": null,
   "metadata": {},
   "outputs": [],
   "source": [
    "# Does the minimum vary with the values of the initial point? (4%)\n",
    "# 不同初始點 x 會使演算法找到不同最小值嗎?\n",
    "# Write down your answer here. "
   ]
  },
  {
   "cell_type": "code",
   "execution_count": null,
   "metadata": {},
   "outputs": [],
   "source": [
    "# Is the minimum a local minimum or a global minimum? (4%)\n",
    "# # Write down your answer here. "
   ]
  }
 ],
 "metadata": {
  "kernelspec": {
   "display_name": "Python 3",
   "language": "python",
   "name": "python3"
  },
  "language_info": {
   "codemirror_mode": {
    "name": "ipython",
    "version": 3
   },
   "file_extension": ".py",
   "mimetype": "text/x-python",
   "name": "python",
   "nbconvert_exporter": "python",
   "pygments_lexer": "ipython3",
   "version": "3.6.7"
  }
 },
 "nbformat": 4,
 "nbformat_minor": 2
}
